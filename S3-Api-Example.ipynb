{
 "cells": [
  {
   "cell_type": "markdown",
   "metadata": {
    "deletable": true,
    "editable": true
   },
   "source": [
    "## S3 Python API Example Code"
   ]
  },
  {
   "cell_type": "markdown",
   "metadata": {
    "deletable": true,
    "editable": true
   },
   "source": [
    "#### Boto3 is used as the S3 API module"
   ]
  },
  {
   "cell_type": "code",
   "execution_count": 1,
   "metadata": {
    "collapsed": true,
    "deletable": true,
    "editable": true
   },
   "outputs": [],
   "source": [
    "import json\n",
    "import boto3\n",
    "import boto3.session\n",
    "import random\n",
    "import string"
   ]
  },
  {
   "cell_type": "markdown",
   "metadata": {
    "deletable": true,
    "editable": true
   },
   "source": [
    "#### Set the endpoint and generate a unique bucket name"
   ]
  },
  {
   "cell_type": "code",
   "execution_count": 2,
   "metadata": {
    "collapsed": false,
    "deletable": true,
    "editable": true
   },
   "outputs": [
    {
     "name": "stdout",
     "output_type": "stream",
     "text": [
      "Using bucket: tmp-bucket-lbmg\n"
     ]
    }
   ],
   "source": [
    "endpoint = 'https://webscaledemo.netapp.com:8082'\n",
    "bucket_name = 'tmp-bucket-' + ''.join([random.choice(string.ascii_lowercase) for i in range(4)])\n",
    "print(\"Using bucket: \" + bucket_name)"
   ]
  },
  {
   "cell_type": "markdown",
   "metadata": {
    "deletable": true,
    "editable": true
   },
   "source": [
    "#### Provide your own access credentials"
   ]
  },
  {
   "cell_type": "code",
   "execution_count": 3,
   "metadata": {
    "collapsed": false,
    "deletable": true,
    "editable": true
   },
   "outputs": [],
   "source": [
    "access_key = '<your access key here>'\n",
    "secret_key = '<your secret access key here>'"
   ]
  },
  {
   "cell_type": "markdown",
   "metadata": {
    "deletable": true,
    "editable": true
   },
   "source": [
    "**Do not use the example below in production - disabling SSL verification is discouraged!**  \n",
    "When using a self-signed certificate, make sure to pass it into the constructor:  \n",
    "```s3 = session.resource(service_name='s3', endpoint_url=endpoint, verify='server_cert.pem')```"
   ]
  },
  {
   "cell_type": "code",
   "execution_count": 4,
   "metadata": {
    "collapsed": false,
    "deletable": true,
    "editable": true,
    "scrolled": true
   },
   "outputs": [],
   "source": [
    "session = boto3.session.Session(aws_access_key_id=access_key, aws_secret_access_key=secret_key)\n",
    "s3 = session.resource(service_name='s3', endpoint_url=endpoint, verify=False)\n",
    "client = s3.meta.client"
   ]
  },
  {
   "cell_type": "markdown",
   "metadata": {
    "deletable": true,
    "editable": true
   },
   "source": [
    "### Bucket related operations"
   ]
  },
  {
   "cell_type": "markdown",
   "metadata": {
    "deletable": true,
    "editable": true
   },
   "source": [
    "#### Create new bucket for S3 account"
   ]
  },
  {
   "cell_type": "code",
   "execution_count": 5,
   "metadata": {
    "collapsed": false,
    "deletable": true,
    "editable": true,
    "scrolled": true
   },
   "outputs": [
    {
     "data": {
      "text/plain": [
       "{'Location': '/tmp-bucket-lbmg',\n",
       " 'ResponseMetadata': {'HTTPHeaders': {'connection': 'KEEP-ALIVE',\n",
       "   'content-length': '0',\n",
       "   'date': 'Tue, 21 Mar 2017 17:45:57 GMT',\n",
       "   'location': '/tmp-bucket-lbmg',\n",
       "   'server': 'StorageGRID/10.3.0.1',\n",
       "   'x-amz-request-id': '714493066'},\n",
       "  'HTTPStatusCode': 200,\n",
       "  'HostId': '',\n",
       "  'RequestId': '714493066',\n",
       "  'RetryAttempts': 0}}"
      ]
     },
     "execution_count": 5,
     "metadata": {},
     "output_type": "execute_result"
    }
   ],
   "source": [
    "bucket = s3.Bucket(bucket_name)\n",
    "bucket.create()"
   ]
  },
  {
   "cell_type": "markdown",
   "metadata": {
    "deletable": true,
    "editable": true
   },
   "source": [
    "#### List all buckets for S3 account"
   ]
  },
  {
   "cell_type": "code",
   "execution_count": 6,
   "metadata": {
    "collapsed": false,
    "deletable": true,
    "editable": true,
    "scrolled": false
   },
   "outputs": [
    {
     "name": "stdout",
     "output_type": "stream",
     "text": [
      "tmp-bucket-lbmg\n"
     ]
    }
   ],
   "source": [
    "bucket.wait_until_exists()\n",
    "for bucket in s3.buckets.all():\n",
    "    print(bucket.name)"
   ]
  },
  {
   "cell_type": "markdown",
   "metadata": {
    "deletable": true,
    "editable": true
   },
   "source": [
    "#### Enable bucket versioning"
   ]
  },
  {
   "cell_type": "code",
   "execution_count": 7,
   "metadata": {
    "collapsed": false,
    "deletable": true,
    "editable": true,
    "scrolled": false
   },
   "outputs": [
    {
     "data": {
      "text/plain": [
       "{'ResponseMetadata': {'HTTPHeaders': {'connection': 'KEEP-ALIVE',\n",
       "   'content-length': '0',\n",
       "   'date': 'Tue, 21 Mar 2017 17:46:07 GMT',\n",
       "   'server': 'StorageGRID/10.3.0.1',\n",
       "   'x-amz-request-id': '714493066'},\n",
       "  'HTTPStatusCode': 200,\n",
       "  'HostId': '',\n",
       "  'RequestId': '714493066',\n",
       "  'RetryAttempts': 0}}"
      ]
     },
     "execution_count": 7,
     "metadata": {},
     "output_type": "execute_result"
    }
   ],
   "source": [
    "bucket.Versioning().enable()"
   ]
  },
  {
   "cell_type": "markdown",
   "metadata": {
    "deletable": true,
    "editable": true
   },
   "source": [
    "#### Get Bucket Versioning status"
   ]
  },
  {
   "cell_type": "code",
   "execution_count": 8,
   "metadata": {
    "collapsed": false,
    "deletable": true,
    "editable": true
   },
   "outputs": [
    {
     "name": "stdout",
     "output_type": "stream",
     "text": [
      "Enabled\n"
     ]
    }
   ],
   "source": [
    "print (bucket.Versioning().status)"
   ]
  },
  {
   "cell_type": "markdown",
   "metadata": {
    "deletable": true,
    "editable": true
   },
   "source": [
    "#### Create a bucket policy  \n",
    "*Note the StorageGRID Webscale specific Resource URN*"
   ]
  },
  {
   "cell_type": "code",
   "execution_count": 9,
   "metadata": {
    "collapsed": false,
    "deletable": true,
    "editable": true
   },
   "outputs": [],
   "source": [
    "policy = {\n",
    "    \"Statement\": [\n",
    "        {\n",
    "            \"Sid\":\"AddPerm\",\n",
    "            \"Effect\":\"Allow\",\n",
    "            \"Principal\": \"*\",\n",
    "            \"Action\":[\"s3:ListBucket\"],\n",
    "            \"Resource\":[\"urn:sgws:s3:::\" + bucket.name]\n",
    "        }\n",
    "    ]\n",
    "}"
   ]
  },
  {
   "cell_type": "markdown",
   "metadata": {
    "deletable": true,
    "editable": true
   },
   "source": [
    "Set a new policy allowing anyone to list the contents of the bucket"
   ]
  },
  {
   "cell_type": "code",
   "execution_count": 10,
   "metadata": {
    "collapsed": false,
    "deletable": true,
    "editable": true,
    "scrolled": true
   },
   "outputs": [
    {
     "data": {
      "text/plain": [
       "{'ResponseMetadata': {'HTTPHeaders': {'connection': 'KEEP-ALIVE',\n",
       "   'content-length': '0',\n",
       "   'date': 'Tue, 21 Mar 2017 17:46:08 GMT',\n",
       "   'server': 'StorageGRID/10.3.0.1',\n",
       "   'x-amz-request-id': '714493066'},\n",
       "  'HTTPStatusCode': 204,\n",
       "  'HostId': '',\n",
       "  'RequestId': '714493066',\n",
       "  'RetryAttempts': 0}}"
      ]
     },
     "execution_count": 10,
     "metadata": {},
     "output_type": "execute_result"
    }
   ],
   "source": [
    "bucket.Policy().put(Policy=json.dumps(policy))"
   ]
  },
  {
   "cell_type": "markdown",
   "metadata": {
    "deletable": true,
    "editable": true
   },
   "source": [
    "### Object related operations"
   ]
  },
  {
   "cell_type": "markdown",
   "metadata": {
    "deletable": true,
    "editable": true
   },
   "source": [
    "#### Put a new object to a bucket"
   ]
  },
  {
   "cell_type": "code",
   "execution_count": 11,
   "metadata": {
    "collapsed": false,
    "deletable": true,
    "editable": true
   },
   "outputs": [
    {
     "data": {
      "text/plain": [
       "{'ETag': '\"812d5775a52f93fca96d0ff77f0f5dd0\"',\n",
       " 'ResponseMetadata': {'HTTPHeaders': {'connection': 'KEEP-ALIVE',\n",
       "   'content-length': '0',\n",
       "   'date': 'Tue, 21 Mar 2017 17:46:08 GMT',\n",
       "   'etag': '\"812d5775a52f93fca96d0ff77f0f5dd0\"',\n",
       "   'server': 'StorageGRID/10.3.0.1',\n",
       "   'x-amz-request-id': '714493066',\n",
       "   'x-amz-server-side-encryption': 'AES256',\n",
       "   'x-amz-version-id': 'NDM5OEI0NzgtMEU1RS0xMUU3LTg4MzAtQUI2OTAwQzMyQkUx'},\n",
       "  'HTTPStatusCode': 200,\n",
       "  'HostId': '',\n",
       "  'RequestId': '714493066',\n",
       "  'RetryAttempts': 0},\n",
       " 'ServerSideEncryption': 'AES256',\n",
       " 'VersionId': 'NDM5OEI0NzgtMEU1RS0xMUU3LTg4MzAtQUI2OTAwQzMyQkUx'}"
      ]
     },
     "execution_count": 11,
     "metadata": {},
     "output_type": "execute_result"
    }
   ],
   "source": [
    "obj = s3.Object(bucket.name, 'my-key')\n",
    "obj.put(Body='This is my object\\'s data',\n",
    "        Metadata={'customerid': '1234', 'location': 'germany'},\n",
    "        ServerSideEncryption='AES256')"
   ]
  },
  {
   "cell_type": "markdown",
   "metadata": {
    "deletable": true,
    "editable": true
   },
   "source": [
    "#### Copy an existing object"
   ]
  },
  {
   "cell_type": "code",
   "execution_count": 12,
   "metadata": {
    "collapsed": false,
    "deletable": true,
    "editable": true
   },
   "outputs": [
    {
     "data": {
      "text/plain": [
       "{'CopyObjectResult': {'ETag': '\"812d5775a52f93fca96d0ff77f0f5dd0\"',\n",
       "  'LastModified': datetime.datetime(2017, 3, 21, 17, 46, 8, 551000, tzinfo=tzutc())},\n",
       " 'CopySourceVersionId': 'NDM5OEI0NzgtMEU1RS0xMUU3LTg4MzAtQUI2OTAwQzMyQkUx',\n",
       " 'ResponseMetadata': {'HTTPHeaders': {'connection': 'CLOSE',\n",
       "   'content-type': 'application/xml',\n",
       "   'date': 'Tue, 21 Mar 2017 17:46:08 GMT',\n",
       "   'server': 'StorageGRID/10.3.0.1',\n",
       "   'x-amz-copy-source-version-id': 'NDM5OEI0NzgtMEU1RS0xMUU3LTg4MzAtQUI2OTAwQzMyQkUx',\n",
       "   'x-amz-request-id': '714493066',\n",
       "   'x-amz-version-id': 'NDNDRjQ2NjctMEU1RS0xMUU3LThBNTQtMkI0NjAwQzMyQkUx'},\n",
       "  'HTTPStatusCode': 200,\n",
       "  'HostId': '',\n",
       "  'RequestId': '714493066',\n",
       "  'RetryAttempts': 0},\n",
       " 'VersionId': 'NDNDRjQ2NjctMEU1RS0xMUU3LThBNTQtMkI0NjAwQzMyQkUx'}"
      ]
     },
     "execution_count": 12,
     "metadata": {},
     "output_type": "execute_result"
    }
   ],
   "source": [
    "obj.wait_until_exists()\n",
    "copied_obj = s3.Object(bucket.name, 'my-copied-key')\n",
    "copied_obj.copy_from(CopySource={ 'Bucket': obj.bucket_name, 'Key': obj.key })"
   ]
  },
  {
   "cell_type": "markdown",
   "metadata": {
    "deletable": true,
    "editable": true
   },
   "source": [
    "#### Get object from bucket"
   ]
  },
  {
   "cell_type": "code",
   "execution_count": 13,
   "metadata": {
    "collapsed": false,
    "deletable": true,
    "editable": true
   },
   "outputs": [
    {
     "name": "stdout",
     "output_type": "stream",
     "text": [
      "Data: b\"This is my object's data\" // Metadata: {'customerid': '1234', 'location': 'germany'}\n"
     ]
    }
   ],
   "source": [
    "response = obj.get()\n",
    "data = response['Body'].read()\n",
    "metadata = response['Metadata']\n",
    "print(\"Data: %s // Metadata: %s\" % (data, metadata))"
   ]
  },
  {
   "cell_type": "markdown",
   "metadata": {
    "deletable": true,
    "editable": true
   },
   "source": [
    "#### List all objects for a bucket"
   ]
  },
  {
   "cell_type": "code",
   "execution_count": 14,
   "metadata": {
    "collapsed": false,
    "deletable": true,
    "editable": true,
    "scrolled": false
   },
   "outputs": [
    {
     "name": "stdout",
     "output_type": "stream",
     "text": [
      "my-copied-key\n",
      "my-key\n"
     ]
    }
   ],
   "source": [
    "for obj in bucket.objects.all():\n",
    "    print(obj.key)"
   ]
  },
  {
   "cell_type": "markdown",
   "metadata": {
    "deletable": true,
    "editable": true
   },
   "source": [
    "#### Generate a pre-signed URL (only possible via client, not directly via Object object)"
   ]
  },
  {
   "cell_type": "code",
   "execution_count": 15,
   "metadata": {
    "collapsed": false,
    "deletable": true,
    "editable": true
   },
   "outputs": [
    {
     "name": "stdout",
     "output_type": "stream",
     "text": [
      "Pre-signed URL: https://webscaledemo.netapp.com:8082/tmp-bucket-lbmg/my-key?Expires=1490121968&Signature=vEFZlMkrfP2ezsQDd%2BM7MFC7pzs%3D&AWSAccessKeyId=L68PIKZBX88HCUSC41XR\n"
     ]
    }
   ],
   "source": [
    "url = client.generate_presigned_url('get_object', {'Bucket': bucket.name, 'Key': 'my-key'}, ExpiresIn=3600)\n",
    "print(\"Pre-signed URL: %s\" % (url))"
   ]
  },
  {
   "cell_type": "markdown",
   "metadata": {
    "deletable": true,
    "editable": true
   },
   "source": [
    "#### Delete all objects and versions from the bucket"
   ]
  },
  {
   "cell_type": "code",
   "execution_count": 16,
   "metadata": {
    "collapsed": false,
    "deletable": true,
    "editable": true,
    "scrolled": false
   },
   "outputs": [],
   "source": [
    "for obj in bucket.object_versions.all():\n",
    "    obj.delete()"
   ]
  },
  {
   "cell_type": "markdown",
   "metadata": {
    "deletable": true,
    "editable": true
   },
   "source": [
    "#### Delete bucket"
   ]
  },
  {
   "cell_type": "code",
   "execution_count": 17,
   "metadata": {
    "collapsed": false,
    "deletable": true,
    "editable": true,
    "scrolled": false
   },
   "outputs": [
    {
     "data": {
      "text/plain": [
       "{'ResponseMetadata': {'HTTPHeaders': {'connection': 'KEEP-ALIVE',\n",
       "   'content-length': '0',\n",
       "   'date': 'Tue, 21 Mar 2017 17:46:19 GMT',\n",
       "   'server': 'StorageGRID/10.3.0.1',\n",
       "   'x-amz-request-id': '2711551009'},\n",
       "  'HTTPStatusCode': 204,\n",
       "  'HostId': '',\n",
       "  'RequestId': '2711551009',\n",
       "  'RetryAttempts': 0}}"
      ]
     },
     "execution_count": 17,
     "metadata": {},
     "output_type": "execute_result"
    }
   ],
   "source": [
    "bucket.delete()"
   ]
  }
 ],
 "metadata": {
  "kernelspec": {
   "display_name": "Python 3",
   "language": "python",
   "name": "python3"
  },
  "language_info": {
   "codemirror_mode": {
    "name": "ipython",
    "version": 3
   },
   "file_extension": ".py",
   "mimetype": "text/x-python",
   "name": "python",
   "nbconvert_exporter": "python",
   "pygments_lexer": "ipython3",
   "version": "3.4.2"
  }
 },
 "nbformat": 4,
 "nbformat_minor": 2
}
